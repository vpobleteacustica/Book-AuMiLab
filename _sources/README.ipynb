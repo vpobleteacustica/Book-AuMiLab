{
 "cells": [
  {
   "cell_type": "markdown",
   "id": "d71c29c1",
   "metadata": {},
   "source": [
    "# Proyecto `AuMiLab`\n",
    "\n",
    "## Descripción general  \n",
    "`AuMiLab` es un proyecto liderado por estudiantes, tanto de pregrado como de postgrado, de diversas áreas del conocimiento, principalmente, ingeniería, ciencias y geología, y que está apoyado por académicos de la Universidad Austral de Chile. `AuMiLab` tiene como objetivo promover el interés científico en el ámbito de la acústica, vibraciones, procesamiento de señales, ciencias básicas y programación computacional.\n",
    "\n",
    "La sigla `AuMiLab` recoge tres conceptos fundamentales:\n",
    "\n",
    "+ **Audio**.\n",
    "+ **Minería**.\n",
    "+ **Laboratorio.**\n",
    "\n",
    "> Lo que llamamos `Audio` es un concepto fundamental que representa a los **datos** que observamos (auditivamente) desde una escena acústica que sucede en el mundo real, o bien, que se podría generar de manera sintética mediante técnicas de realidad virtual. \n",
    "\n",
    "> `Minería` por otra parte, se refiere a la búsqueda de información dentro un conjunto de audios (**dataset**). Esta búsqueda ayudaría, por ejemplo, en la tarea de marcar (**etiquetar**) la localización de **clases** diferentes de eventos sonoros dentro del audio, e indicar en el mismo audio, sus tiempos de inicio (**onsets**) y de término (**offsets**).\n",
    "\n",
    "> Y un `Laboratorio` es ese espacio (no necesariamente físico), que se genera en un equipo de trabajo cuando se plantean preguntas, se comparten y analizan ideas y se elaboran estrategias o métodos para abordar un problema. \n"
   ]
  },
  {
   "cell_type": "markdown",
   "id": "ce9eeb56",
   "metadata": {},
   "source": [
    "## Orden de la presentación\n",
    "\n",
    "### `Por qué importan los conjuntos de datos?`\n",
    "\n",
    "### `Quiénes integramos el equipo AuMiLab` \n",
    "\n",
    "### `Qué hemos realizado`\n",
    "\n",
    "### `Hacia dónde vamos avanzando`"
   ]
  }
 ],
 "metadata": {
  "kernelspec": {
   "display_name": "aumilab-book",
   "language": "python",
   "name": "aumilab-book"
  },
  "language_info": {
   "codemirror_mode": {
    "name": "ipython",
    "version": 3
   },
   "file_extension": ".py",
   "mimetype": "text/x-python",
   "name": "python",
   "nbconvert_exporter": "python",
   "pygments_lexer": "ipython3",
   "version": "3.8.10"
  }
 },
 "nbformat": 4,
 "nbformat_minor": 5
}
