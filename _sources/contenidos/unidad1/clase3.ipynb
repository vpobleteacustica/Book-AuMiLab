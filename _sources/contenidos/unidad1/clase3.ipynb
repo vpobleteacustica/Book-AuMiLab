{
 "cells": [
  {
   "cell_type": "markdown",
   "id": "d71c29c1",
   "metadata": {},
   "source": [
    "# Herramienta para monitoreo de humedales Valdivianos usando redes neuronales detectoras de sonidos polifónicos\n",
    "\n",
    "## 2021- Tesis en desarrollo. Ingeniero Civil Acústico, Diego Espejo A.\n",
    "+ Vinculación con Magister en Informática\n",
    "+ De 5 tipos de clases de eventos sonoros pasamos a 19 clases\n",
    "+ De 720 audios (2 semanas) pasamos a 1800 audios (5 semanas)\n",
    "+ De SEDnet (basada en TensorFlow) pasamos a SEDnet-Torch (basada en PyTorch)"
   ]
  },
  {
   "cell_type": "markdown",
   "id": "2a13905e",
   "metadata": {},
   "source": [
    "<br/><br/>"
   ]
  },
  {
   "cell_type": "markdown",
   "id": "8af78ec4",
   "metadata": {},
   "source": [
    "<img src=\"../figuras/sed.jpg\" width=\"550\">"
   ]
  },
  {
   "cell_type": "markdown",
   "id": "246484f1",
   "metadata": {},
   "source": [
    "<br/><br/>"
   ]
  },
  {
   "cell_type": "markdown",
   "id": "a249e982",
   "metadata": {},
   "source": [
    "<img src=\"../figuras/wet.png\" width=\"450\">"
   ]
  },
  {
   "cell_type": "markdown",
   "id": "63b465c2",
   "metadata": {},
   "source": [
    "<br/><br/>"
   ]
  },
  {
   "cell_type": "markdown",
   "id": "5c04d68d",
   "metadata": {},
   "source": [
    "<img src=\"../figuras/UMAP_DE.png\" width=\"850\">"
   ]
  },
  {
   "cell_type": "markdown",
   "id": "850819c9",
   "metadata": {},
   "source": [
    "<br/><br/>"
   ]
  },
  {
   "cell_type": "markdown",
   "id": "402ea540",
   "metadata": {},
   "source": [
    "# Method for passive acoustic monitoring of bird communities using UMAP and a deep neural network\n",
    "\n",
    "## 2021-2022. Tesis de Magister en Acústica y Vibraciones, Gabriel Morales T.\n",
    "+ Tres humedales urbanos\n",
    "+ De 16 especies de aves\n",
    "+ Un año completo de audios\n",
    "+ [Plataforma RFCx-ARBIMON](https://arbimon.rfcx.org/)"
   ]
  },
  {
   "cell_type": "markdown",
   "id": "a8db426e",
   "metadata": {},
   "source": [
    "<br/><br/>"
   ]
  },
  {
   "cell_type": "markdown",
   "id": "4c73bb74",
   "metadata": {},
   "source": [
    "<img src=\"../figuras/table.png\" width=\"350\">"
   ]
  },
  {
   "cell_type": "markdown",
   "id": "69f5f5ee",
   "metadata": {},
   "source": [
    "<br/><br/>"
   ]
  },
  {
   "cell_type": "markdown",
   "id": "59807463",
   "metadata": {},
   "source": [
    "<img src=\"../figuras/spectrogram.png\" width=\"650\">"
   ]
  },
  {
   "cell_type": "markdown",
   "id": "a2f4b5d4",
   "metadata": {},
   "source": [
    "<br/><br/>"
   ]
  },
  {
   "cell_type": "markdown",
   "id": "7257809a",
   "metadata": {},
   "source": [
    "<img src=\"../figuras/diagram_bird.png\" width=\"550\">"
   ]
  },
  {
   "cell_type": "markdown",
   "id": "f353ac0e",
   "metadata": {},
   "source": [
    "<br/><br/>"
   ]
  },
  {
   "cell_type": "markdown",
   "id": "28b95421",
   "metadata": {},
   "source": [
    "<img src=\"../figuras/UMAP_bird.png\" width=\"650\">"
   ]
  },
  {
   "cell_type": "markdown",
   "id": "03814d7c",
   "metadata": {},
   "source": [
    "<br/><br/>"
   ]
  },
  {
   "cell_type": "markdown",
   "id": "7d6f5128",
   "metadata": {},
   "source": [
    "<img src=\"../figuras/porzana.png\" width=\"650\">"
   ]
  },
  {
   "cell_type": "markdown",
   "id": "961bb46d",
   "metadata": {},
   "source": [
    "<br/><br/>"
   ]
  },
  {
   "cell_type": "markdown",
   "id": "d241ebe6",
   "metadata": {},
   "source": [
    "+ Artículo bajo revisión 2022: \n",
    "> + Manuscript Number: ECOINF-D-22-00731\n",
    "> + Manuscript Title: Method for passive acoustic monitoring of bird communities using UMAP and a deep neural network\n",
    "> + Journal: Ecological Informatics"
   ]
  },
  {
   "cell_type": "markdown",
   "id": "5b143d33",
   "metadata": {},
   "source": [
    "<img src=\"../figuras/ecological.png\" width=\"600\">"
   ]
  },
  {
   "cell_type": "markdown",
   "id": "3e0413c9",
   "metadata": {},
   "source": [
    "<br/><br/>"
   ]
  }
 ],
 "metadata": {
  "kernelspec": {
   "display_name": "aumilab-book",
   "language": "python",
   "name": "aumilab-book"
  },
  "language_info": {
   "codemirror_mode": {
    "name": "ipython",
    "version": 3
   },
   "file_extension": ".py",
   "mimetype": "text/x-python",
   "name": "python",
   "nbconvert_exporter": "python",
   "pygments_lexer": "ipython3",
   "version": "3.8.10"
  }
 },
 "nbformat": 4,
 "nbformat_minor": 5
}
