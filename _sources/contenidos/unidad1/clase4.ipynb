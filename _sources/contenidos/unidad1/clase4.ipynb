{
 "cells": [
  {
   "cell_type": "markdown",
   "id": "d71c29c1",
   "metadata": {},
   "source": [
    "# Nuevos integrantes que se unen al proyecto\n",
    "\n",
    "## Agosto de 2021: \n",
    "+ Estudiantes de Ingeniería Civil Acústica:\n",
    "> + Esteban Gallardo B.\n",
    "> + Hakim Martínez M.\n",
    "+ Etiquetado de audios usando Label-Studio\n",
    "\n",
    "## Enero 2022:\n",
    "+ Estudiantes de Ingeniería Civil Acústica:\n",
    "> + Rafael Peñailillo H.\n",
    "> + Etiquetado de audios usando Label-Studio\n",
    "\n",
    "## 2020-2022 Proyecto de investigación FONDEF:\n",
    "+ Investigador Principal: Dr. Néstor Becerra Y.; Universidad de Chile. Co-Investigador: Dr. Fernando Huenupán Q. Universidad de La Frontera. Automatic detection and classification of seismological events using advances machine learning methods.\n",
    "> + Asistente de investigación Septiembre 2020 - Abril 2021: Diego Espejo A. \n",
    "> + Asistente de investigación Mayo 2021 - Actualmente: Rafael Peñailillo H.\n",
    "+ Agosto 2022: Estudiante de Geología:\n",
    "> + Joaquín Morales M.\n",
    "> + Señales de eventos sísmicos\n",
    "> + Etiquetado, análisis y visualización de datos."
   ]
  },
  {
   "cell_type": "markdown",
   "id": "188b12a8",
   "metadata": {},
   "source": [
    "<br/><br/>"
   ]
  },
  {
   "cell_type": "markdown",
   "id": "d89c82f2",
   "metadata": {},
   "source": [
    "# Participamos en Congreso Internacional de Acústica\n",
    "+ [12º Congreso Iberoamericano de Acústica](https://fia2022.com.br/espanhol/index.php)"
   ]
  },
  {
   "cell_type": "markdown",
   "id": "2a13905e",
   "metadata": {},
   "source": [
    "<br/><br/>"
   ]
  },
  {
   "cell_type": "markdown",
   "id": "8af78ec4",
   "metadata": {},
   "source": [
    "<img src=\"../figuras/fia2.png\" width=\"650\">"
   ]
  },
  {
   "cell_type": "markdown",
   "id": "bd9adba5",
   "metadata": {},
   "source": [
    "<br/><br/>"
   ]
  },
  {
   "cell_type": "markdown",
   "id": "987822ef",
   "metadata": {},
   "source": [
    "<img src=\"../figuras/rafa_diego.png\" width=\"350\">"
   ]
  },
  {
   "cell_type": "markdown",
   "id": "47a91fee",
   "metadata": {},
   "source": [
    "<br/><br/>"
   ]
  },
  {
   "cell_type": "markdown",
   "id": "59ab5f6c",
   "metadata": {},
   "source": [
    "## 2020-2022 Proyecto de investigación FONDEF:\n",
    "+ Investigador Principal: Dr. Enrique Suárez. Sistema integrado de análisis de Fuentes Sonoras Ambientales: Sistema FuSA.\n",
    "\n",
    "> + Financiamiento Tesis de Magister en Informática, Diego Espejo A.\n",
    "> + Integra equipo de redes neuronales artificiales de FuSA.\n",
    "> + **Julio 2022: AuMiLab** - Primer trabajo profesional de etiquetado de audios, 2700 minutos en total.\n",
    "\n",
    "+ Se integran a AuMiLab para etiquetado de audios:\n",
    "> + Cristian Cofré S., Licenciado en Física, Estudiante Magister en Informática.\n",
    "> + Estudiantes de Ingeniería Civil Acústica: Esteban Vargas C., Felipe Véliz, Leonardo Santos, Mauricio Barrientos. "
   ]
  },
  {
   "cell_type": "markdown",
   "id": "850819c9",
   "metadata": {},
   "source": [
    "<br/><br/>"
   ]
  },
  {
   "cell_type": "markdown",
   "id": "402ea540",
   "metadata": {},
   "source": [
    "# Tesis sobre `acoustic features` en histología\n",
    "+ Julio 2022: \n",
    "> + Se integra Robin Urrutia E. - Estudiantes de Ingeniería Civil Acústica, Vinculación con Magister en Acústica y Vibraciones.\n",
    "\n",
    "+ Postulamos a Concurso ANID de Fomento a la Vinculación Internacional para Instituciones de Investigación Convocatoria 2022:\n",
    "> + Título: **Medical Interventional Device and Acoustic Tissue Characterization with Multiple Clinical Potentialities**.\n",
    "> + Dra. Montserrat Guerra - Instituto de Anatomía, Histología y Patología, UACh\n",
    "> + Dr. Patricio Fuentealba Ortiz - Instituto de Electricidad y Electrónica, UACh\n",
    "> + Dr. Fernando Huenupań Quinán - Departamento de Ingeniería Eléctrica. Universidad de La Frontera\n",
    "> + Dr.-Ing. Alfredo Illanes, Dr.-Ing. Axel Boese, Mr. Thomas Sühn, PhD Student; INKA Application Driven Research, Medizinische Fakultät, Universitätsklinikum Magdeburg, Germany\n",
    "> + Ing. Diego Espejo A. - Investigador Joven\n",
    "> + Robin Urrutia E. Estudiante Tesista."
   ]
  },
  {
   "cell_type": "markdown",
   "id": "054e15da",
   "metadata": {},
   "source": [
    "<img src=\"../figuras/robin.png\" width=\"550\">"
   ]
  },
  {
   "cell_type": "markdown",
   "id": "a8db426e",
   "metadata": {},
   "source": [
    "<br/><br/>"
   ]
  },
  {
   "cell_type": "markdown",
   "id": "05376ac6",
   "metadata": {},
   "source": [
    "## Participamos en exposicion Centro 14K \n",
    "+ Proyectos de I+D - Exploración de datos de percepción háptica mediante procesamiento de señales y algoritmos no supervisados"
   ]
  },
  {
   "cell_type": "markdown",
   "id": "31497024",
   "metadata": {},
   "source": [
    "<br/><br/>"
   ]
  },
  {
   "cell_type": "markdown",
   "id": "4c73bb74",
   "metadata": {},
   "source": [
    "<img src=\"../figuras/robin2.jpeg\" width=\"350\">"
   ]
  },
  {
   "cell_type": "markdown",
   "id": "69f5f5ee",
   "metadata": {},
   "source": [
    "<br/><br/>"
   ]
  },
  {
   "cell_type": "markdown",
   "id": "59807463",
   "metadata": {},
   "source": [
    "<img src=\"../figuras/robin3.png\" width=\"550\">"
   ]
  },
  {
   "cell_type": "markdown",
   "id": "a2f4b5d4",
   "metadata": {},
   "source": [
    "<br/><br/>"
   ]
  },
  {
   "cell_type": "markdown",
   "id": "7257809a",
   "metadata": {},
   "source": [
    "<img src=\"../figuras/robin4.png\" width=\"550\">"
   ]
  },
  {
   "cell_type": "markdown",
   "id": "d46d4930",
   "metadata": {},
   "source": [
    "<br/><br/>"
   ]
  },
  {
   "cell_type": "markdown",
   "id": "5ea98352",
   "metadata": {},
   "source": [
    "<img src=\"../figuras/robin5.png\" width=\"550\">"
   ]
  },
  {
   "cell_type": "markdown",
   "id": "c2cf750c",
   "metadata": {},
   "source": [
    "<br/><br/>"
   ]
  },
  {
   "cell_type": "markdown",
   "id": "bd1c9ed6",
   "metadata": {},
   "source": [
    "# Qué viene a futuro: \n",
    "## Septiembre de 2022 \n",
    "+ Tesis de Estudiante de Ingeniería Civil Acústica, Richard Povea I.\n",
    "> + Localización de eventos sonoros polifónicos en una escena sintetizada de ambiente de humedal urbano.\n",
    "> + Dr. Rhoddy Viveros, Post Doctorado Proyecto Fondef FuSA\n",
    "> + Ing. Diego Espejo A.\n",
    "> + Dr. Felipe Otondo\n",
    "\n",
    "+ Diego Espejo: Escribir el artículo sobre su tesis en formato científico:\n",
    "> + `Bioacoustics - The International Journal of Animal Sound and its Recording`\n",
    "> + Título: Short-time acoustic indices for monitoring urban wetlands using artificial neural networks\n",
    "> + Preparar y enviar para ser sometido a revisión en la revista\n",
    "\n",
    "+ Rafael Peñailillo H. - Tema de Tesis\n",
    "> + `Análisis de relaciones entre características acústicas de la voz con el riesgo suicida entre adolescentes`\n",
    "> + Dra. Carla Figueroa S., Universidad Autónoma de Chile\n",
    "> + Dr. Fernando Huenupán Q., Universidad de La Frontera\n",
    "> + [Figueroa, et al., 2022](http://www.medicinabalear.org/pdfs/Vol37n5.pdf#page=64)\n",
    "\n",
    "+ Crear un programa de asignatura optativa: \n",
    "> + `ACUSXXX - Introducción al aprendizaje automático en acústica`\n",
    "\n",
    "+ Segunda versión `Simposio en Acústica Computacional`"
   ]
  },
  {
   "cell_type": "markdown",
   "id": "3ea9a02e",
   "metadata": {},
   "source": [
    "<br/><br/>"
   ]
  },
  {
   "cell_type": "markdown",
   "id": "b362500e",
   "metadata": {},
   "source": [
    "<img src=\"../figuras/simposio.png\" width=\"550\">"
   ]
  },
  {
   "cell_type": "markdown",
   "id": "d7d491cd",
   "metadata": {},
   "source": [
    "<br/><br/>"
   ]
  },
  {
   "cell_type": "markdown",
   "id": "a11fc754",
   "metadata": {},
   "source": [
    "<br/><br/>"
   ]
  },
  {
   "cell_type": "markdown",
   "id": "3e0413c9",
   "metadata": {},
   "source": [
    "<br/><br/>"
   ]
  }
 ],
 "metadata": {
  "kernelspec": {
   "display_name": "aumilab-book",
   "language": "python",
   "name": "aumilab-book"
  },
  "language_info": {
   "codemirror_mode": {
    "name": "ipython",
    "version": 3
   },
   "file_extension": ".py",
   "mimetype": "text/x-python",
   "name": "python",
   "nbconvert_exporter": "python",
   "pygments_lexer": "ipython3",
   "version": "3.8.10"
  }
 },
 "nbformat": 4,
 "nbformat_minor": 5
}
